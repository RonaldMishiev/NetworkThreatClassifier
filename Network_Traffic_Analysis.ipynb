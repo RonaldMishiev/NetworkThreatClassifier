{
  "nbformat": 4,
  "nbformat_minor": 0,
  "metadata": {
    "colab": {
      "provenance": [],
      "machine_shape": "hm",
      "gpuType": "T4"
    },
    "kernelspec": {
      "name": "python3",
      "display_name": "Python 3"
    },
    "language_info": {
      "name": "python"
    },
    "accelerator": "GPU"
  },
  "cells": [
    {
      "cell_type": "code",
      "execution_count": null,
      "metadata": {
        "id": "iH3IF61axi_O"
      },
      "outputs": [],
      "source": [
        "import pandas as pd\n",
        "import numpy as np\n",
        "from sklearn.model_selection import train_test_split\n",
        "from sklearn.preprocessing import StandardScaler, OneHotEncoder, LabelEncoder\n",
        "from sklearn.compose import ColumnTransformer\n",
        "from sklearn.impute import SimpleImputer\n",
        "from sklearn.pipeline import Pipeline\n",
        "from sklearn.compose import ColumnTransformer\n",
        "from sklearn.metrics import classification_report, confusion_matrix\n",
        "from tensorflow.keras.models import Sequential\n",
        "from tensorflow.keras.layers import Dense\n",
        "import matplotlib.pyplot as plt\n",
        "import seaborn as sns\n",
        "import tensorflow as tf\n",
        "import joblib\n",
        "from tensorflow.keras.optimizers import Adam\n",
        "from tensorflow.keras.utils import to_categorical\n",
        "from tensorflow.keras.callbacks import EarlyStopping\n",
        "from tensorflow.keras.callbacks import ModelCheckpoint\n",
        "from tensorflow.keras.callbacks import ReduceLROnPlateau\n",
        "from tensorflow.keras.callbacks import TensorBoard\n",
        "from flask import Flask, request, jsonify\n",
        "from flask_ngrok import run_with_ngrok"
      ]
    },
    {
      "cell_type": "code",
      "source": [
        "# Update the file paths to dataset location\n",
        "csv_file_names = ['/content/Friday-WorkingHours-Afternoon-DDos.pcap_ISCX.csv',\n",
        "                  '/content/Friday-WorkingHours-Afternoon-PortScan.pcap_ISCX.csv',\n",
        "                  '/content/Friday-WorkingHours-Morning.pcap_ISCX.csv',\n",
        "                  '/content/Monday-WorkingHours.pcap_ISCX.csv',\n",
        "                  '/content/Thursday-WorkingHours-Afternoon-Infilteration.pcap_ISCX.csv',\n",
        "                  '/content/Thursday-WorkingHours-Morning-WebAttacks.pcap_ISCX.csv',\n",
        "                  '/content/Tuesday-WorkingHours.pcap_ISCX.csv',\n",
        "                  '/content/Wednesday-workingHours.pcap_ISCX.csv']\n",
        "full_path = [f'/path_to_your_data/{name}' for name in csv_file_names]\n",
        "df = pd.concat(map(pd.read_csv, csv_file_names), ignore_index=True)\n"
      ],
      "metadata": {
        "id": "YbMhU1hfzTBx"
      },
      "execution_count": null,
      "outputs": []
    },
    {
      "cell_type": "code",
      "source": [
        "print(df.head())\n",
        "print(df.info())"
      ],
      "metadata": {
        "id": "eMXA3Pgs0D37"
      },
      "execution_count": null,
      "outputs": []
    },
    {
      "cell_type": "code",
      "source": [
        "# Rename the column to remove the leading space\n",
        "df.rename(columns={' Label': 'Label'}, inplace=True)\n",
        "\n",
        "# Replace infinite values with NaN\n",
        "df.replace([np.inf, -np.inf], np.nan, inplace=True)\n",
        "\n",
        "# Define numeric and categorical features\n",
        "numeric_features = df.select_dtypes(include=['int64', 'float64']).columns\n",
        "categorical_features = df.select_dtypes(include=['object']).columns\n",
        "\n",
        "# Remove the target column 'Label' from categorical features if it's there\n",
        "categorical_features = categorical_features.drop('Label') if 'Label' in categorical_features else categorical_features\n",
        "\n",
        "# Transformation pipelines for both numeric and categorical data\n",
        "numeric_transformer = Pipeline(steps=[\n",
        "    ('imputer', SimpleImputer(strategy='median')),\n",
        "    ('scaler', StandardScaler())])\n",
        "\n",
        "categorical_transformer = Pipeline(steps=[\n",
        "    ('imputer', SimpleImputer(strategy='constant', fill_value='missing')),\n",
        "    ('onehot', OneHotEncoder(handle_unknown='ignore'))])\n",
        "\n",
        "# Combine transformations into a preprocessor\n",
        "preprocessor = ColumnTransformer(\n",
        "    transformers=[\n",
        "        ('num', numeric_transformer, numeric_features),\n",
        "        ('cat', categorical_transformer, categorical_features)])\n",
        "\n",
        "# Separate features and target variable\n",
        "X = df.drop('Label', axis=1)\n",
        "y = df['Label']\n",
        "\n",
        "# Apply transformations\n",
        "X_preprocessed = preprocessor.fit_transform(X)\n",
        "\n",
        "# Encode the target variable for multi-class classification\n",
        "label_encoder = LabelEncoder()\n",
        "y_integer_encoded = label_encoder.fit_transform(y)\n",
        "y_categorical = to_categorical(y_integer_encoded)"
      ],
      "metadata": {
        "id": "xjqy2wCl0GPJ"
      },
      "execution_count": null,
      "outputs": []
    },
    {
      "cell_type": "code",
      "source": [
        "X_train, X_test, y_train, y_test = train_test_split(X_preprocessed, y_categorical, test_size=0.2, random_state=42)\n"
      ],
      "metadata": {
        "id": "wm8KtgW80Ig2"
      },
      "execution_count": null,
      "outputs": []
    },
    {
      "cell_type": "code",
      "source": [
        "num_classes = y_categorical.shape[1]\n",
        "model = Sequential()\n",
        "model.add(Dense(128, activation='relu', input_shape=(X_train.shape[1],)))\n",
        "model.add(Dense(64, activation='relu'))\n",
        "model.add(Dense(num_classes, activation='softmax'))  # One neuron per class\n",
        "model.compile(optimizer='adam', loss='categorical_crossentropy', metrics=['accuracy'])\n",
        "\n",
        "# Configure early stopping\n",
        "early_stopping = EarlyStopping(monitor='val_loss', patience=3, verbose=1, restore_best_weights=True)"
      ],
      "metadata": {
        "id": "UEBS8Ya40Jnt"
      },
      "execution_count": null,
      "outputs": []
    },
    {
      "cell_type": "code",
      "source": [
        "history = model.fit(X_train, y_train, epochs=10, batch_size=32, validation_split=0.2, callbacks=[early_stopping])\n"
      ],
      "metadata": {
        "colab": {
          "base_uri": "https://localhost:8080/"
        },
        "id": "i-0mwipE0LmJ",
        "outputId": "caa8947d-215f-4dce-d03c-f5a80afdb76c"
      },
      "execution_count": null,
      "outputs": [
        {
          "output_type": "stream",
          "name": "stdout",
          "text": [
            "Epoch 1/10\n",
            "56615/56615 [==============================] - 184s 3ms/step - loss: 0.0645 - accuracy: 0.9744 - val_loss: 0.0515 - val_accuracy: 0.9796\n",
            "Epoch 2/10\n",
            "56615/56615 [==============================] - 183s 3ms/step - loss: 0.0445 - accuracy: 0.9824 - val_loss: 0.0366 - val_accuracy: 0.9831\n",
            "Epoch 3/10\n",
            "56615/56615 [==============================] - 182s 3ms/step - loss: 0.0351 - accuracy: 0.9880 - val_loss: 0.0302 - val_accuracy: 0.9886\n",
            "Epoch 4/10\n",
            "56615/56615 [==============================] - 183s 3ms/step - loss: 0.0328 - accuracy: 0.9894 - val_loss: 0.0295 - val_accuracy: 0.9926\n",
            "Epoch 5/10\n",
            "56615/56615 [==============================] - 182s 3ms/step - loss: 0.0325 - accuracy: 0.9900 - val_loss: 0.0251 - val_accuracy: 0.9918\n",
            "Epoch 6/10\n",
            "56615/56615 [==============================] - 183s 3ms/step - loss: 0.0316 - accuracy: 0.9906 - val_loss: 0.0254 - val_accuracy: 0.9915\n",
            "Epoch 7/10\n",
            "56615/56615 [==============================] - 181s 3ms/step - loss: 0.0292 - accuracy: 0.9913 - val_loss: 0.0624 - val_accuracy: 0.9946\n",
            "Epoch 8/10\n",
            "56614/56615 [============================>.] - ETA: 0s - loss: 0.0305 - accuracy: 0.9918Restoring model weights from the end of the best epoch: 5.\n",
            "56615/56615 [==============================] - 182s 3ms/step - loss: 0.0305 - accuracy: 0.9918 - val_loss: 0.0305 - val_accuracy: 0.9926\n",
            "Epoch 8: early stopping\n"
          ]
        }
      ]
    },
    {
      "cell_type": "code",
      "source": [
        "loss, accuracy = model.evaluate(X_test, y_test)\n",
        "print(f'Test Loss: {loss}, Test Accuracy: {accuracy}')\n"
      ],
      "metadata": {
        "colab": {
          "base_uri": "https://localhost:8080/"
        },
        "id": "IybtO6eh0M7n",
        "outputId": "b956d9ef-7549-41cd-cadf-5c499a3826c2"
      },
      "execution_count": null,
      "outputs": [
        {
          "output_type": "stream",
          "name": "stdout",
          "text": [
            "17693/17693 [==============================] - 38s 2ms/step - loss: 0.0231 - accuracy: 0.9919\n",
            "Test Loss: 0.023090090602636337, Test Accuracy: 0.9918643236160278\n"
          ]
        }
      ]
    },
    {
      "cell_type": "code",
      "source": [
        "plt.plot(history.history['accuracy'], label='accuracy')\n",
        "plt.plot(history.history['val_accuracy'], label = 'val_accuracy')\n",
        "plt.xlabel('Epoch')\n",
        "plt.ylabel('Accuracy')\n",
        "plt.ylim([0, 1])\n",
        "plt.legend(loc='lower right')\n"
      ],
      "metadata": {
        "colab": {
          "base_uri": "https://localhost:8080/",
          "height": 472
        },
        "id": "DAYF10r-0OM5",
        "outputId": "ffe8b834-4f98-4538-9dc2-44f97146b51b"
      },
      "execution_count": null,
      "outputs": [
        {
          "output_type": "execute_result",
          "data": {
            "text/plain": [
              "<matplotlib.legend.Legend at 0x7ed8c1093a90>"
            ]
          },
          "metadata": {},
          "execution_count": 36
        },
        {
          "output_type": "display_data",
          "data": {
            "text/plain": [
              "<Figure size 640x480 with 1 Axes>"
            ],
            "image/png": "[encoded data removed]"
          },
          "metadata": {}
        }
      ]
    },
    {
      "cell_type": "code",
      "source": [
        "model.save('model.h5')\n",
        "joblib.dump(preprocessor, 'my_preprocessor.pkl')\n",
        "preprocessor = joblib.load('my_preprocessor.pkl')\n"
      ],
      "metadata": {
        "id": "jRKAh5OoBMs_"
      },
      "execution_count": null,
      "outputs": []
    },
    {
      "cell_type": "code",
      "source": [
        "app = Flask(__name__)\n",
        "run_with_ngrok(app)  # Start ngrok when the app is run\n",
        "\n",
        "# Load trained model\n",
        "model = tf.keras.models.load_model('model.h5')\n",
        "\n",
        "# Load preprocessor\n",
        "import joblib\n",
        "preprocessor = joblib.load('my_preprocessor.pkl')\n",
        "\n",
        "@app.route('/predict', methods=['POST'])\n",
        "def predict():\n",
        "    try:\n",
        "        json_ = request.json\n",
        "        query_df = pd.DataFrame(json_)\n",
        "        query = preprocessor.transform(query_df)\n",
        "        prediction = model.predict(query)\n",
        "\n",
        "        return jsonify({'prediction': prediction.tolist()})\n",
        "    except Exception as e:\n",
        "        return jsonify({'error': str(e), 'trace': traceback.format_exc()})\n",
        "\n",
        "if __name__ == \"__main__\":\n",
        "    app.run()"
      ],
      "metadata": {
        "id": "RTCPK59bAnU4"
      },
      "execution_count": null,
      "outputs": []
    },
    {
      "cell_type": "code",
      "source": [
        "python app.py"
      ],
      "metadata": {
        "id": "4Fk2ZcVPByKI"
      },
      "execution_count": null,
      "outputs": []
    },
    {
      "cell_type": "code",
      "source": [
        "curl -X POST -H \"Content-Type: application/json\" -d @data.json http://127.0.0.1:5000/predict"
      ],
      "metadata": {
        "id": "uMST2hh-Bz3B"
      },
      "execution_count": null,
      "outputs": []
    }
  ]
}